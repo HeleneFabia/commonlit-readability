{
 "cells": [
  {
   "cell_type": "markdown",
   "id": "a95d32e7-b00a-48dd-b681-a7404e904745",
   "metadata": {
    "id": "a95d32e7-b00a-48dd-b681-a7404e904745",
    "tags": []
   },
   "source": [
    "# CommonLit Readability (Kaggle Challenge)\n",
    "## Training with BERT"
   ]
  },
  {
   "cell_type": "code",
   "execution_count": 1,
   "id": "dc308e44-2dcf-4f5a-801a-8db9d97edc2a",
   "metadata": {
    "id": "dc308e44-2dcf-4f5a-801a-8db9d97edc2a"
   },
   "outputs": [],
   "source": [
    "import os \n",
    "import pandas as pd\n",
    "from tqdm.auto import tqdm\n",
    "\n",
    "import torch\n",
    "from torch import nn\n",
    "from torch.utils.data import (\n",
    "    Dataset,\n",
    "    DataLoader\n",
    ")\n",
    "from transformers import (\n",
    "    AutoTokenizer,\n",
    "    BertForSequenceClassification,\n",
    "    AdamW,\n",
    "    get_linear_schedule_with_warmup\n",
    ")\n",
    "\n",
    "from utils.train_with_bert import BERTDataset, training, validating\n",
    "\n",
    "os.environ[\"TOKENIZERS_PARALLELISM\"] = \"false\""
   ]
  },
  {
   "cell_type": "markdown",
   "id": "ef9f46a7-7cae-44e4-9e1d-85b73f34a3a9",
   "metadata": {
    "id": "ef9f46a7-7cae-44e4-9e1d-85b73f34a3a9",
    "tags": []
   },
   "source": [
    "### Preprocess data"
   ]
  },
  {
   "cell_type": "code",
   "execution_count": 2,
   "id": "701f9f22-3638-42b3-ad2d-9cb86630ae20",
   "metadata": {
    "id": "701f9f22-3638-42b3-ad2d-9cb86630ae20"
   },
   "outputs": [],
   "source": [
    "train_df = pd.read_csv(\"train.csv\")\n",
    "test_df = pd.read_csv(\"test.csv\")"
   ]
  },
  {
   "cell_type": "code",
   "execution_count": 3,
   "id": "82fae46d-8968-4cfb-a4e1-c9e5cb9cb98e",
   "metadata": {
    "colab": {
     "base_uri": "https://localhost:8080/"
    },
    "id": "9c87c48f-0410-4257-b6d8-fcbbc628196c",
    "outputId": "f33f5ff0-ee90-49cd-de01-9a547665bc52"
   },
   "outputs": [
    {
     "name": "stdout",
     "output_type": "stream",
     "text": [
      "314\n"
     ]
    }
   ],
   "source": [
    "checkpoint = \"bert-base-uncased\"\n",
    "tokenizer = AutoTokenizer.from_pretrained(checkpoint)\n",
    "\n",
    "# get max length of input ids in train_df\n",
    "text_length = list()\n",
    "for text in train_df[\"excerpt\"]:\n",
    "    tokens = tokenizer.encode(text)\n",
    "    text_length.append(len(tokens))\n",
    "\n",
    "max_length = max(text_length)\n",
    "print(max_length)"
   ]
  },
  {
   "cell_type": "markdown",
   "id": "d6955b74-8e4b-4c24-ba4d-294589149c14",
   "metadata": {
    "id": "d6955b74-8e4b-4c24-ba4d-294589149c14",
    "tags": []
   },
   "source": [
    "### Splitting the dataset"
   ]
  },
  {
   "cell_type": "code",
   "execution_count": 9,
   "id": "16554ffc-070f-42b2-b017-1b8a7fbd9bd5",
   "metadata": {
    "colab": {
     "base_uri": "https://localhost:8080/",
     "height": 206
    },
    "id": "18a30a71-48eb-4fbd-8a7d-37a4a3b1657d",
    "outputId": "c7abd5fb-dc87-48c1-83ab-2b3be294f0b9"
   },
   "outputs": [],
   "source": [
    "train_df[\"kfold\"] = train_df.index % 5\n",
    "\n",
    "train_fold = train_df[train_df[\"kfold\"] != 0].reset_index(drop=True)\n",
    "valid_fold = train_df[train_df[\"kfold\"] == 0].reset_index(drop=True)"
   ]
  },
  {
   "cell_type": "markdown",
   "id": "2cbca7fe-5306-479f-9f60-63b8a2484620",
   "metadata": {
    "id": "2cbca7fe-5306-479f-9f60-63b8a2484620",
    "tags": []
   },
   "source": [
    "### Building Dataset and DataLoader"
   ]
  },
  {
   "cell_type": "code",
   "execution_count": 10,
   "id": "ad787cf0-80bd-4100-9302-6c85981898ca",
   "metadata": {
    "id": "4625b9a3-e1ad-4ca6-91c5-b0e60909fd99"
   },
   "outputs": [],
   "source": [
    "train_ds = BERTDataset(tokenizer, max_length, train_fold[\"excerpt\"], train_fold[\"target\"])\n",
    "valid_ds = BERTDataset(tokenizer, max_length, valid_fold[\"excerpt\"], valid_fold[\"target\"])\n",
    "\n",
    "train_bs = 8\n",
    "valid_bs = 16\n",
    "\n",
    "train_dl = DataLoader(\n",
    "    train_ds, \n",
    "    batch_size=train_bs,\n",
    "    shuffle=True,\n",
    "    num_workers=2,\n",
    "    pin_memory=False\n",
    ")\n",
    "valid_dl = DataLoader(\n",
    "    valid_ds, \n",
    "    batch_size=valid_bs,\n",
    "    shuffle=False,\n",
    "    num_workers=2,\n",
    "    pin_memory=False\n",
    ")"
   ]
  },
  {
   "cell_type": "markdown",
   "id": "85f7bb9b-6fdb-468c-9358-b37bcf724fd7",
   "metadata": {
    "id": "85f7bb9b-6fdb-468c-9358-b37bcf724fd7"
   },
   "source": [
    "### Model"
   ]
  },
  {
   "cell_type": "code",
   "execution_count": null,
   "id": "0ebfa54a-55dd-4d8c-958c-ff9ac185a5bf",
   "metadata": {
    "id": "080c335d-c663-4aab-825c-172767c2beb4",
    "tags": []
   },
   "outputs": [],
   "source": [
    "model = BertForSequenceClassification.from_pretrained(checkpoint, num_labels=1)\n",
    "\n",
    "device = torch.device(\"cuda\") if torch.cuda.is_available() else torch.device(\"cpu\")\n",
    "print(device)\n",
    "\n",
    "model.to(device)\n",
    "model.train()"
   ]
  },
  {
   "cell_type": "markdown",
   "id": "nhJ3Lzk8WAJt",
   "metadata": {
    "id": "nhJ3Lzk8WAJt"
   },
   "source": [
    "### Training function"
   ]
  },
  {
   "cell_type": "code",
   "execution_count": 7,
   "id": "7bcb18c1-5607-4c83-a082-dcc57d80db37",
   "metadata": {
    "id": "uh28P2A9V-KP"
   },
   "outputs": [],
   "source": [
    "optimizer = AdamW(model.parameters(), lr=0.005, weight_decay=0.001)\n",
    "\n",
    "epochs = 20\n",
    "train_steps = int(len(train_fold)/train_bs*epochs)\n",
    "num_steps = int(train_steps * 0.1)\n",
    "\n",
    "scheduler = get_linear_schedule_with_warmup(optimizer, num_steps, train_steps)"
   ]
  },
  {
   "cell_type": "code",
   "execution_count": null,
   "id": "34c36d73-c21d-426e-a809-80979968aa0a",
   "metadata": {},
   "outputs": [],
   "source": [
    "train_losses = list()\n",
    "valid_losses = list()\n",
    "\n",
    "for epoch in tqdm(range(epochs)):\n",
    "    \n",
    "    print(\"EPOCH\", epoch + 1)\n",
    "    \n",
    "    train_loss = training(train_dl, model, optimizer, scheduler, device)\n",
    "    print(f\"Training Loss: {train_loss:.4f}\")\n",
    "    \n",
    "    valid_loss = validating(valid_dl, model, device)\n",
    "    print(f\"Validation Loss: {valid_loss:.4f}\")\n",
    "    \n",
    "    train_losses.append(train_loss)\n",
    "    valid_losses.append(valid_loss)"
   ]
  }
 ],
 "metadata": {
  "accelerator": "GPU",
  "colab": {
   "collapsed_sections": [
    "ef9f46a7-7cae-44e4-9e1d-85b73f34a3a9",
    "d6955b74-8e4b-4c24-ba4d-294589149c14",
    "2cbca7fe-5306-479f-9f60-63b8a2484620"
   ],
   "name": "train_with_bert.ipynb",
   "provenance": []
  },
  "kernelspec": {
   "display_name": "Python 3 (ipykernel)",
   "language": "python",
   "name": "python3"
  },
  "language_info": {
   "codemirror_mode": {
    "name": "ipython",
    "version": 3
   },
   "file_extension": ".py",
   "mimetype": "text/x-python",
   "name": "python",
   "nbconvert_exporter": "python",
   "pygments_lexer": "ipython3",
   "version": "3.8.10"
  }
 },
 "nbformat": 4,
 "nbformat_minor": 5
}
